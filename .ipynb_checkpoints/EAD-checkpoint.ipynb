{
 "cells": [
  {
   "cell_type": "code",
   "execution_count": 1,
   "metadata": {
    "collapsed": true
   },
   "outputs": [],
   "source": [
    "import gdal\n",
    "from gdalconst import * "
   ]
  },
  {
   "cell_type": "code",
   "execution_count": 3,
   "metadata": {},
   "outputs": [],
   "source": [
    "import pandas as pd\n",
    "submission = pd.read_csv('../input/sample_submission.csv')\n",
    "grid_size = pd.read_csv('../input/grid_sizes.csv')\n",
    "train = pd.read_csv('../input/train_wkt_v4.csv')"
   ]
  },
  {
   "cell_type": "code",
   "execution_count": 4,
   "metadata": {
    "collapsed": true
   },
   "outputs": [],
   "source": [
    "# submission size: 429x10\n",
    "# grid size: 450, total # of images\n",
    "# train: 25, so there are 4 overlaps"
   ]
  },
  {
   "cell_type": "code",
   "execution_count": 5,
   "metadata": {
    "scrolled": true
   },
   "outputs": [
    {
     "data": {
      "text/html": [
       "<div>\n",
       "<style>\n",
       "    .dataframe thead tr:only-child th {\n",
       "        text-align: right;\n",
       "    }\n",
       "\n",
       "    .dataframe thead th {\n",
       "        text-align: left;\n",
       "    }\n",
       "\n",
       "    .dataframe tbody tr th {\n",
       "        vertical-align: top;\n",
       "    }\n",
       "</style>\n",
       "<table border=\"1\" class=\"dataframe\">\n",
       "  <thead>\n",
       "    <tr style=\"text-align: right;\">\n",
       "      <th></th>\n",
       "      <th>ImageId</th>\n",
       "      <th>ClassType</th>\n",
       "      <th>MultipolygonWKT</th>\n",
       "    </tr>\n",
       "  </thead>\n",
       "  <tbody>\n",
       "    <tr>\n",
       "      <th>0</th>\n",
       "      <td>6120_2_4</td>\n",
       "      <td>1</td>\n",
       "      <td>POLYGON ((0 0, 0.009188 0, 0.009188 -0.0090399...</td>\n",
       "    </tr>\n",
       "    <tr>\n",
       "      <th>1</th>\n",
       "      <td>6120_2_4</td>\n",
       "      <td>2</td>\n",
       "      <td>POLYGON ((0 0, 0.009188 0, 0.009188 -0.0090399...</td>\n",
       "    </tr>\n",
       "    <tr>\n",
       "      <th>2</th>\n",
       "      <td>6120_2_4</td>\n",
       "      <td>3</td>\n",
       "      <td>POLYGON ((0 0, 0.009188 0, 0.009188 -0.0090399...</td>\n",
       "    </tr>\n",
       "    <tr>\n",
       "      <th>3</th>\n",
       "      <td>6120_2_4</td>\n",
       "      <td>4</td>\n",
       "      <td>POLYGON ((0 0, 0.009188 0, 0.009188 -0.0090399...</td>\n",
       "    </tr>\n",
       "    <tr>\n",
       "      <th>4</th>\n",
       "      <td>6120_2_4</td>\n",
       "      <td>5</td>\n",
       "      <td>POLYGON ((0 0, 0.009188 0, 0.009188 -0.0090399...</td>\n",
       "    </tr>\n",
       "    <tr>\n",
       "      <th>5</th>\n",
       "      <td>6120_2_4</td>\n",
       "      <td>6</td>\n",
       "      <td>POLYGON ((0 0, 0.009188 0, 0.009188 -0.0090399...</td>\n",
       "    </tr>\n",
       "    <tr>\n",
       "      <th>6</th>\n",
       "      <td>6120_2_4</td>\n",
       "      <td>7</td>\n",
       "      <td>POLYGON ((0 0, 0.009188 0, 0.009188 -0.0090399...</td>\n",
       "    </tr>\n",
       "    <tr>\n",
       "      <th>7</th>\n",
       "      <td>6120_2_4</td>\n",
       "      <td>8</td>\n",
       "      <td>POLYGON ((0 0, 0.009188 0, 0.009188 -0.0090399...</td>\n",
       "    </tr>\n",
       "    <tr>\n",
       "      <th>8</th>\n",
       "      <td>6120_2_4</td>\n",
       "      <td>9</td>\n",
       "      <td>POLYGON ((0 0, 0.009188 0, 0.009188 -0.0090399...</td>\n",
       "    </tr>\n",
       "    <tr>\n",
       "      <th>9</th>\n",
       "      <td>6120_2_4</td>\n",
       "      <td>10</td>\n",
       "      <td>POLYGON ((0 0, 0.009188 0, 0.009188 -0.0090399...</td>\n",
       "    </tr>\n",
       "  </tbody>\n",
       "</table>\n",
       "</div>"
      ],
      "text/plain": [
       "    ImageId  ClassType                                    MultipolygonWKT\n",
       "0  6120_2_4          1  POLYGON ((0 0, 0.009188 0, 0.009188 -0.0090399...\n",
       "1  6120_2_4          2  POLYGON ((0 0, 0.009188 0, 0.009188 -0.0090399...\n",
       "2  6120_2_4          3  POLYGON ((0 0, 0.009188 0, 0.009188 -0.0090399...\n",
       "3  6120_2_4          4  POLYGON ((0 0, 0.009188 0, 0.009188 -0.0090399...\n",
       "4  6120_2_4          5  POLYGON ((0 0, 0.009188 0, 0.009188 -0.0090399...\n",
       "5  6120_2_4          6  POLYGON ((0 0, 0.009188 0, 0.009188 -0.0090399...\n",
       "6  6120_2_4          7  POLYGON ((0 0, 0.009188 0, 0.009188 -0.0090399...\n",
       "7  6120_2_4          8  POLYGON ((0 0, 0.009188 0, 0.009188 -0.0090399...\n",
       "8  6120_2_4          9  POLYGON ((0 0, 0.009188 0, 0.009188 -0.0090399...\n",
       "9  6120_2_4         10  POLYGON ((0 0, 0.009188 0, 0.009188 -0.0090399..."
      ]
     },
     "execution_count": 5,
     "metadata": {},
     "output_type": "execute_result"
    }
   ],
   "source": [
    "submission.head(10)"
   ]
  },
  {
   "cell_type": "code",
   "execution_count": 6,
   "metadata": {},
   "outputs": [
    {
     "data": {
      "text/html": [
       "<div>\n",
       "<style>\n",
       "    .dataframe thead tr:only-child th {\n",
       "        text-align: right;\n",
       "    }\n",
       "\n",
       "    .dataframe thead th {\n",
       "        text-align: left;\n",
       "    }\n",
       "\n",
       "    .dataframe tbody tr th {\n",
       "        vertical-align: top;\n",
       "    }\n",
       "</style>\n",
       "<table border=\"1\" class=\"dataframe\">\n",
       "  <thead>\n",
       "    <tr style=\"text-align: right;\">\n",
       "      <th></th>\n",
       "      <th>ImageId</th>\n",
       "      <th>ClassType</th>\n",
       "      <th>MultipolygonWKT</th>\n",
       "    </tr>\n",
       "  </thead>\n",
       "  <tbody>\n",
       "    <tr>\n",
       "      <th>4286</th>\n",
       "      <td>6130_1_0</td>\n",
       "      <td>7</td>\n",
       "      <td>POLYGON ((0 0, 0.009188 0, 0.009188 -0.0090399...</td>\n",
       "    </tr>\n",
       "    <tr>\n",
       "      <th>4287</th>\n",
       "      <td>6130_1_0</td>\n",
       "      <td>8</td>\n",
       "      <td>POLYGON ((0 0, 0.009188 0, 0.009188 -0.0090399...</td>\n",
       "    </tr>\n",
       "    <tr>\n",
       "      <th>4288</th>\n",
       "      <td>6130_1_0</td>\n",
       "      <td>9</td>\n",
       "      <td>POLYGON ((0 0, 0.009188 0, 0.009188 -0.0090399...</td>\n",
       "    </tr>\n",
       "    <tr>\n",
       "      <th>4289</th>\n",
       "      <td>6130_1_0</td>\n",
       "      <td>10</td>\n",
       "      <td>POLYGON ((0 0, 0.009188 0, 0.009188 -0.0090399...</td>\n",
       "    </tr>\n",
       "  </tbody>\n",
       "</table>\n",
       "</div>"
      ],
      "text/plain": [
       "       ImageId  ClassType                                    MultipolygonWKT\n",
       "4286  6130_1_0          7  POLYGON ((0 0, 0.009188 0, 0.009188 -0.0090399...\n",
       "4287  6130_1_0          8  POLYGON ((0 0, 0.009188 0, 0.009188 -0.0090399...\n",
       "4288  6130_1_0          9  POLYGON ((0 0, 0.009188 0, 0.009188 -0.0090399...\n",
       "4289  6130_1_0         10  POLYGON ((0 0, 0.009188 0, 0.009188 -0.0090399..."
      ]
     },
     "execution_count": 6,
     "metadata": {},
     "output_type": "execute_result"
    }
   ],
   "source": [
    "submission.tail(4)"
   ]
  },
  {
   "cell_type": "code",
   "execution_count": 7,
   "metadata": {},
   "outputs": [
    {
     "data": {
      "text/plain": [
       "ImageId            4290\n",
       "ClassType          4290\n",
       "MultipolygonWKT    4290\n",
       "dtype: int64"
      ]
     },
     "execution_count": 7,
     "metadata": {},
     "output_type": "execute_result"
    }
   ],
   "source": [
    "submission.count()"
   ]
  },
  {
   "cell_type": "code",
   "execution_count": 8,
   "metadata": {},
   "outputs": [
    {
     "data": {
      "text/html": [
       "<div>\n",
       "<style>\n",
       "    .dataframe thead tr:only-child th {\n",
       "        text-align: right;\n",
       "    }\n",
       "\n",
       "    .dataframe thead th {\n",
       "        text-align: left;\n",
       "    }\n",
       "\n",
       "    .dataframe tbody tr th {\n",
       "        vertical-align: top;\n",
       "    }\n",
       "</style>\n",
       "<table border=\"1\" class=\"dataframe\">\n",
       "  <thead>\n",
       "    <tr style=\"text-align: right;\">\n",
       "      <th></th>\n",
       "      <th>Unnamed: 0</th>\n",
       "      <th>Xmax</th>\n",
       "      <th>Ymin</th>\n",
       "    </tr>\n",
       "  </thead>\n",
       "  <tbody>\n",
       "    <tr>\n",
       "      <th>0</th>\n",
       "      <td>6120_2_4</td>\n",
       "      <td>0.009180</td>\n",
       "      <td>-0.00904</td>\n",
       "    </tr>\n",
       "    <tr>\n",
       "      <th>1</th>\n",
       "      <td>6120_2_3</td>\n",
       "      <td>0.009169</td>\n",
       "      <td>-0.00904</td>\n",
       "    </tr>\n",
       "    <tr>\n",
       "      <th>2</th>\n",
       "      <td>6120_2_2</td>\n",
       "      <td>0.009188</td>\n",
       "      <td>-0.00904</td>\n",
       "    </tr>\n",
       "    <tr>\n",
       "      <th>3</th>\n",
       "      <td>6120_2_1</td>\n",
       "      <td>0.009188</td>\n",
       "      <td>-0.00904</td>\n",
       "    </tr>\n",
       "  </tbody>\n",
       "</table>\n",
       "</div>"
      ],
      "text/plain": [
       "  Unnamed: 0      Xmax     Ymin\n",
       "0   6120_2_4  0.009180 -0.00904\n",
       "1   6120_2_3  0.009169 -0.00904\n",
       "2   6120_2_2  0.009188 -0.00904\n",
       "3   6120_2_1  0.009188 -0.00904"
      ]
     },
     "execution_count": 8,
     "metadata": {},
     "output_type": "execute_result"
    }
   ],
   "source": [
    "grid_size.head(4)"
   ]
  },
  {
   "cell_type": "code",
   "execution_count": 9,
   "metadata": {},
   "outputs": [
    {
     "data": {
      "text/html": [
       "<div>\n",
       "<style>\n",
       "    .dataframe thead tr:only-child th {\n",
       "        text-align: right;\n",
       "    }\n",
       "\n",
       "    .dataframe thead th {\n",
       "        text-align: left;\n",
       "    }\n",
       "\n",
       "    .dataframe tbody tr th {\n",
       "        vertical-align: top;\n",
       "    }\n",
       "</style>\n",
       "<table border=\"1\" class=\"dataframe\">\n",
       "  <thead>\n",
       "    <tr style=\"text-align: right;\">\n",
       "      <th></th>\n",
       "      <th>Unnamed: 0</th>\n",
       "      <th>Xmax</th>\n",
       "      <th>Ymin</th>\n",
       "    </tr>\n",
       "  </thead>\n",
       "  <tbody>\n",
       "    <tr>\n",
       "      <th>446</th>\n",
       "      <td>6130_1_3</td>\n",
       "      <td>0.009188</td>\n",
       "      <td>-0.009040</td>\n",
       "    </tr>\n",
       "    <tr>\n",
       "      <th>447</th>\n",
       "      <td>6130_1_2</td>\n",
       "      <td>0.009150</td>\n",
       "      <td>-0.009042</td>\n",
       "    </tr>\n",
       "    <tr>\n",
       "      <th>448</th>\n",
       "      <td>6130_1_1</td>\n",
       "      <td>0.009004</td>\n",
       "      <td>-0.009045</td>\n",
       "    </tr>\n",
       "    <tr>\n",
       "      <th>449</th>\n",
       "      <td>6130_1_0</td>\n",
       "      <td>0.009188</td>\n",
       "      <td>-0.009040</td>\n",
       "    </tr>\n",
       "  </tbody>\n",
       "</table>\n",
       "</div>"
      ],
      "text/plain": [
       "    Unnamed: 0      Xmax      Ymin\n",
       "446   6130_1_3  0.009188 -0.009040\n",
       "447   6130_1_2  0.009150 -0.009042\n",
       "448   6130_1_1  0.009004 -0.009045\n",
       "449   6130_1_0  0.009188 -0.009040"
      ]
     },
     "execution_count": 9,
     "metadata": {},
     "output_type": "execute_result"
    }
   ],
   "source": [
    "grid_size.tail(4)"
   ]
  },
  {
   "cell_type": "code",
   "execution_count": 10,
   "metadata": {},
   "outputs": [
    {
     "data": {
      "text/plain": [
       "(0.0090044999992799999, 0.0091880999999999994)"
      ]
     },
     "execution_count": 10,
     "metadata": {},
     "output_type": "execute_result"
    }
   ],
   "source": [
    "min(grid_size.Xmax), max(grid_size.Xmax)"
   ]
  },
  {
   "cell_type": "code",
   "execution_count": 11,
   "metadata": {},
   "outputs": [
    {
     "data": {
      "text/plain": [
       "(-0.009045000000000001, -0.0090310000000000008)"
      ]
     },
     "execution_count": 11,
     "metadata": {},
     "output_type": "execute_result"
    }
   ],
   "source": [
    "min(grid_size.Ymin), max(grid_size.Ymin)"
   ]
  },
  {
   "cell_type": "code",
   "execution_count": 12,
   "metadata": {},
   "outputs": [
    {
     "data": {
      "text/html": [
       "<div>\n",
       "<style>\n",
       "    .dataframe thead tr:only-child th {\n",
       "        text-align: right;\n",
       "    }\n",
       "\n",
       "    .dataframe thead th {\n",
       "        text-align: left;\n",
       "    }\n",
       "\n",
       "    .dataframe tbody tr th {\n",
       "        vertical-align: top;\n",
       "    }\n",
       "</style>\n",
       "<table border=\"1\" class=\"dataframe\">\n",
       "  <thead>\n",
       "    <tr style=\"text-align: right;\">\n",
       "      <th></th>\n",
       "      <th>ImageId</th>\n",
       "      <th>ClassType</th>\n",
       "      <th>MultipolygonWKT</th>\n",
       "    </tr>\n",
       "  </thead>\n",
       "  <tbody>\n",
       "    <tr>\n",
       "      <th>0</th>\n",
       "      <td>6040_2_2</td>\n",
       "      <td>1</td>\n",
       "      <td>MULTIPOLYGON EMPTY</td>\n",
       "    </tr>\n",
       "    <tr>\n",
       "      <th>1</th>\n",
       "      <td>6040_2_2</td>\n",
       "      <td>2</td>\n",
       "      <td>MULTIPOLYGON EMPTY</td>\n",
       "    </tr>\n",
       "    <tr>\n",
       "      <th>2</th>\n",
       "      <td>6040_2_2</td>\n",
       "      <td>3</td>\n",
       "      <td>MULTIPOLYGON EMPTY</td>\n",
       "    </tr>\n",
       "    <tr>\n",
       "      <th>3</th>\n",
       "      <td>6040_2_2</td>\n",
       "      <td>4</td>\n",
       "      <td>MULTIPOLYGON (((0.003025 -0.007879000000000001...</td>\n",
       "    </tr>\n",
       "    <tr>\n",
       "      <th>4</th>\n",
       "      <td>6040_2_2</td>\n",
       "      <td>5</td>\n",
       "      <td>MULTIPOLYGON (((0.005311 -0.009044999999999999...</td>\n",
       "    </tr>\n",
       "    <tr>\n",
       "      <th>5</th>\n",
       "      <td>6040_2_2</td>\n",
       "      <td>6</td>\n",
       "      <td>MULTIPOLYGON EMPTY</td>\n",
       "    </tr>\n",
       "    <tr>\n",
       "      <th>6</th>\n",
       "      <td>6040_2_2</td>\n",
       "      <td>7</td>\n",
       "      <td>MULTIPOLYGON EMPTY</td>\n",
       "    </tr>\n",
       "    <tr>\n",
       "      <th>7</th>\n",
       "      <td>6040_2_2</td>\n",
       "      <td>8</td>\n",
       "      <td>MULTIPOLYGON EMPTY</td>\n",
       "    </tr>\n",
       "    <tr>\n",
       "      <th>8</th>\n",
       "      <td>6040_2_2</td>\n",
       "      <td>9</td>\n",
       "      <td>MULTIPOLYGON EMPTY</td>\n",
       "    </tr>\n",
       "    <tr>\n",
       "      <th>9</th>\n",
       "      <td>6040_2_2</td>\n",
       "      <td>10</td>\n",
       "      <td>MULTIPOLYGON EMPTY</td>\n",
       "    </tr>\n",
       "  </tbody>\n",
       "</table>\n",
       "</div>"
      ],
      "text/plain": [
       "    ImageId  ClassType                                    MultipolygonWKT\n",
       "0  6040_2_2          1                                 MULTIPOLYGON EMPTY\n",
       "1  6040_2_2          2                                 MULTIPOLYGON EMPTY\n",
       "2  6040_2_2          3                                 MULTIPOLYGON EMPTY\n",
       "3  6040_2_2          4  MULTIPOLYGON (((0.003025 -0.007879000000000001...\n",
       "4  6040_2_2          5  MULTIPOLYGON (((0.005311 -0.009044999999999999...\n",
       "5  6040_2_2          6                                 MULTIPOLYGON EMPTY\n",
       "6  6040_2_2          7                                 MULTIPOLYGON EMPTY\n",
       "7  6040_2_2          8                                 MULTIPOLYGON EMPTY\n",
       "8  6040_2_2          9                                 MULTIPOLYGON EMPTY\n",
       "9  6040_2_2         10                                 MULTIPOLYGON EMPTY"
      ]
     },
     "execution_count": 12,
     "metadata": {},
     "output_type": "execute_result"
    }
   ],
   "source": [
    "train.head(10)"
   ]
  },
  {
   "cell_type": "code",
   "execution_count": 13,
   "metadata": {},
   "outputs": [
    {
     "data": {
      "text/html": [
       "<div>\n",
       "<style>\n",
       "    .dataframe thead tr:only-child th {\n",
       "        text-align: right;\n",
       "    }\n",
       "\n",
       "    .dataframe thead th {\n",
       "        text-align: left;\n",
       "    }\n",
       "\n",
       "    .dataframe tbody tr th {\n",
       "        vertical-align: top;\n",
       "    }\n",
       "</style>\n",
       "<table border=\"1\" class=\"dataframe\">\n",
       "  <thead>\n",
       "    <tr style=\"text-align: right;\">\n",
       "      <th></th>\n",
       "      <th>ImageId</th>\n",
       "      <th>ClassType</th>\n",
       "      <th>MultipolygonWKT</th>\n",
       "    </tr>\n",
       "  </thead>\n",
       "  <tbody>\n",
       "    <tr>\n",
       "      <th>240</th>\n",
       "      <td>6100_2_2</td>\n",
       "      <td>1</td>\n",
       "      <td>MULTIPOLYGON (((0.007676 -0.005554, 0.007721 -...</td>\n",
       "    </tr>\n",
       "    <tr>\n",
       "      <th>241</th>\n",
       "      <td>6100_2_2</td>\n",
       "      <td>2</td>\n",
       "      <td>MULTIPOLYGON (((0.009129999999999999 -0.007036...</td>\n",
       "    </tr>\n",
       "    <tr>\n",
       "      <th>242</th>\n",
       "      <td>6100_2_2</td>\n",
       "      <td>3</td>\n",
       "      <td>MULTIPOLYGON (((0.009155999999999999 -0.001717...</td>\n",
       "    </tr>\n",
       "    <tr>\n",
       "      <th>243</th>\n",
       "      <td>6100_2_2</td>\n",
       "      <td>4</td>\n",
       "      <td>MULTIPOLYGON (((0.001933 -0.008625000000000001...</td>\n",
       "    </tr>\n",
       "    <tr>\n",
       "      <th>244</th>\n",
       "      <td>6100_2_2</td>\n",
       "      <td>5</td>\n",
       "      <td>MULTIPOLYGON (((0.000247 -0.008847000000000001...</td>\n",
       "    </tr>\n",
       "    <tr>\n",
       "      <th>245</th>\n",
       "      <td>6100_2_2</td>\n",
       "      <td>6</td>\n",
       "      <td>MULTIPOLYGON (((0.006102 -0.009042, 0.00642 -0...</td>\n",
       "    </tr>\n",
       "    <tr>\n",
       "      <th>246</th>\n",
       "      <td>6100_2_2</td>\n",
       "      <td>7</td>\n",
       "      <td>MULTIPOLYGON (((0.007887999999999999 -0.009042...</td>\n",
       "    </tr>\n",
       "    <tr>\n",
       "      <th>247</th>\n",
       "      <td>6100_2_2</td>\n",
       "      <td>8</td>\n",
       "      <td>MULTIPOLYGON (((0.002119 -0.001417, 0.002132 -...</td>\n",
       "    </tr>\n",
       "    <tr>\n",
       "      <th>248</th>\n",
       "      <td>6100_2_2</td>\n",
       "      <td>9</td>\n",
       "      <td>MULTIPOLYGON (((0.008021 -0.003252, 0.00803399...</td>\n",
       "    </tr>\n",
       "    <tr>\n",
       "      <th>249</th>\n",
       "      <td>6100_2_2</td>\n",
       "      <td>10</td>\n",
       "      <td>MULTIPOLYGON (((0.003194 -0.0089, 0.003201 -0....</td>\n",
       "    </tr>\n",
       "  </tbody>\n",
       "</table>\n",
       "</div>"
      ],
      "text/plain": [
       "      ImageId  ClassType                                    MultipolygonWKT\n",
       "240  6100_2_2          1  MULTIPOLYGON (((0.007676 -0.005554, 0.007721 -...\n",
       "241  6100_2_2          2  MULTIPOLYGON (((0.009129999999999999 -0.007036...\n",
       "242  6100_2_2          3  MULTIPOLYGON (((0.009155999999999999 -0.001717...\n",
       "243  6100_2_2          4  MULTIPOLYGON (((0.001933 -0.008625000000000001...\n",
       "244  6100_2_2          5  MULTIPOLYGON (((0.000247 -0.008847000000000001...\n",
       "245  6100_2_2          6  MULTIPOLYGON (((0.006102 -0.009042, 0.00642 -0...\n",
       "246  6100_2_2          7  MULTIPOLYGON (((0.007887999999999999 -0.009042...\n",
       "247  6100_2_2          8  MULTIPOLYGON (((0.002119 -0.001417, 0.002132 -...\n",
       "248  6100_2_2          9  MULTIPOLYGON (((0.008021 -0.003252, 0.00803399...\n",
       "249  6100_2_2         10  MULTIPOLYGON (((0.003194 -0.0089, 0.003201 -0...."
      ]
     },
     "execution_count": 13,
     "metadata": {},
     "output_type": "execute_result"
    }
   ],
   "source": [
    "train.tail(10)"
   ]
  },
  {
   "cell_type": "code",
   "execution_count": 14,
   "metadata": {
    "collapsed": true
   },
   "outputs": [],
   "source": [
    "plg = train.MultipolygonWKT"
   ]
  },
  {
   "cell_type": "code",
   "execution_count": 17,
   "metadata": {},
   "outputs": [],
   "source": [
    "plg[3];"
   ]
  },
  {
   "cell_type": "code",
   "execution_count": 19,
   "metadata": {},
   "outputs": [
    {
     "name": "stdout",
     "output_type": "stream",
     "text": [
      "Size is  136 x 134 x 8\n",
      "Size is  848 x 837 x 8\n",
      "Size is  3391 x 3348 x 1\n"
     ]
    }
   ],
   "source": [
    "import gdal\n",
    "from gdalconst import * \n",
    "\n",
    "img_filename_16bandA = '../input/sixteen_band/6100_1_3_A.tif'\n",
    "img_filename_16bandM = '../input/sixteen_band/6100_1_3_M.tif'\n",
    "img_filename_16bandP = '../input/sixteen_band/6100_1_3_P.tif' \n",
    "\n",
    "datasetA = gdal.Open(img_filename_16bandA, GA_ReadOnly )\n",
    "datasetM = gdal.Open(img_filename_16bandM, GA_ReadOnly )\n",
    "datasetP = gdal.Open(img_filename_16bandP, GA_ReadOnly ) \n",
    "\n",
    "print('Size is ',datasetA.RasterXSize,'x',datasetA.RasterYSize, \\\n",
    " 'x',datasetA.RasterCount)\n",
    "print('Size is ',datasetM.RasterXSize,'x',datasetM.RasterYSize, \\\n",
    " 'x',datasetM.RasterCount)\n",
    "print('Size is ',datasetP.RasterXSize,'x',datasetP.RasterYSize, \\\n",
    " 'x',datasetP.RasterCount)"
   ]
  },
  {
   "cell_type": "code",
   "execution_count": 20,
   "metadata": {
    "collapsed": true
   },
   "outputs": [],
   "source": [
    "band1 = datasetA.GetRasterBand(1)\n",
    "band2 = datasetM.GetRasterBand(1)\n",
    "band3 = datasetP.GetRasterBand(1)\n",
    "\n",
    "band1Array = band1.ReadAsArray()\n",
    "band2Array = band2.ReadAsArray()\n",
    "band3Array = band3.ReadAsArray()"
   ]
  },
  {
   "cell_type": "code",
   "execution_count": 21,
   "metadata": {},
   "outputs": [
    {
     "data": {
      "text/plain": [
       "((134, 136), (3348, 3391), (3348, 3391))"
      ]
     },
     "execution_count": 21,
     "metadata": {},
     "output_type": "execute_result"
    }
   ],
   "source": [
    "band1Array.shape, band3Array.shape, band3Array.shape"
   ]
  },
  {
   "cell_type": "code",
   "execution_count": 24,
   "metadata": {
    "collapsed": true
   },
   "outputs": [],
   "source": [
    "import matplotlib.pyplot as plt\n",
    "%matplotlib inline\n",
    "\n",
    "from pylab import rcParams\n",
    "rcParams['figure.figsize'] = 10, 10"
   ]
  },
  {
   "cell_type": "code",
   "execution_count": 25,
   "metadata": {},
   "outputs": [
    {
     "data": {
      "image/png": "[encoded data removed]",
      "text/plain": [
       "<matplotlib.figure.Figure at 0x123e8cfd0>"
      ]
     },
     "metadata": {},
     "output_type": "display_data"
    }
   ],
   "source": [
    "imgplot1 = plt.imshow(band1Array)"
   ]
  },
  {
   "cell_type": "code",
   "execution_count": 26,
   "metadata": {},
   "outputs": [
    {
     "data": {
      "text/plain": [
       "(250, 3)"
      ]
     },
     "execution_count": 26,
     "metadata": {},
     "output_type": "execute_result"
    }
   ],
   "source": [
    "train.shape"
   ]
  },
  {
   "cell_type": "code",
   "execution_count": 27,
   "metadata": {},
   "outputs": [
    {
     "data": {
      "text/html": [
       "<div>\n",
       "<style>\n",
       "    .dataframe thead tr:only-child th {\n",
       "        text-align: right;\n",
       "    }\n",
       "\n",
       "    .dataframe thead th {\n",
       "        text-align: left;\n",
       "    }\n",
       "\n",
       "    .dataframe tbody tr th {\n",
       "        vertical-align: top;\n",
       "    }\n",
       "</style>\n",
       "<table border=\"1\" class=\"dataframe\">\n",
       "  <thead>\n",
       "    <tr style=\"text-align: right;\">\n",
       "      <th></th>\n",
       "      <th>ImageId</th>\n",
       "      <th>ClassType</th>\n",
       "      <th>MultipolygonWKT</th>\n",
       "    </tr>\n",
       "  </thead>\n",
       "  <tbody>\n",
       "    <tr>\n",
       "      <th>3</th>\n",
       "      <td>6040_2_2</td>\n",
       "      <td>4</td>\n",
       "      <td>MULTIPOLYGON (((0.003025 -0.007879000000000001...</td>\n",
       "    </tr>\n",
       "    <tr>\n",
       "      <th>4</th>\n",
       "      <td>6040_2_2</td>\n",
       "      <td>5</td>\n",
       "      <td>MULTIPOLYGON (((0.005311 -0.009044999999999999...</td>\n",
       "    </tr>\n",
       "    <tr>\n",
       "      <th>10</th>\n",
       "      <td>6120_2_2</td>\n",
       "      <td>1</td>\n",
       "      <td>MULTIPOLYGON (((0.000439 -0.009039999999999999...</td>\n",
       "    </tr>\n",
       "    <tr>\n",
       "      <th>11</th>\n",
       "      <td>6120_2_2</td>\n",
       "      <td>2</td>\n",
       "      <td>MULTIPOLYGON (((0.009154000000000001 -0.008422...</td>\n",
       "    </tr>\n",
       "  </tbody>\n",
       "</table>\n",
       "</div>"
      ],
      "text/plain": [
       "     ImageId  ClassType                                    MultipolygonWKT\n",
       "3   6040_2_2          4  MULTIPOLYGON (((0.003025 -0.007879000000000001...\n",
       "4   6040_2_2          5  MULTIPOLYGON (((0.005311 -0.009044999999999999...\n",
       "10  6120_2_2          1  MULTIPOLYGON (((0.000439 -0.009039999999999999...\n",
       "11  6120_2_2          2  MULTIPOLYGON (((0.009154000000000001 -0.008422..."
      ]
     },
     "execution_count": 27,
     "metadata": {},
     "output_type": "execute_result"
    }
   ],
   "source": [
    "train_reduced = train[train.MultipolygonWKT != 'MULTIPOLYGON EMPTY']\n",
    "train_reduced[:4]"
   ]
  },
  {
   "cell_type": "code",
   "execution_count": 30,
   "metadata": {},
   "outputs": [],
   "source": [
    "train_reduced.iloc[3].MultipolygonWKT;"
   ]
  },
  {
   "cell_type": "code",
   "execution_count": 31,
   "metadata": {},
   "outputs": [
    {
     "name": "stdout",
     "output_type": "stream",
     "text": [
      "['6040_2_2' '6120_2_2' '6120_2_0' '6090_2_0' '6040_1_3' '6040_1_0'\n",
      " '6100_1_3' '6010_4_2' '6110_4_0' '6140_3_1' '6110_1_2' '6100_2_3'\n",
      " '6150_2_3' '6160_2_1' '6140_1_2' '6110_3_1' '6010_4_4' '6170_2_4'\n",
      " '6170_4_1' '6170_0_4' '6060_2_3' '6070_2_3' '6010_1_2' '6040_4_4'\n",
      " '6100_2_2']\n",
      "25\n"
     ]
    }
   ],
   "source": [
    "imagelist = train.ImageId.unique()\n",
    "print(imagelist)\n",
    "print(len(imagelist))"
   ]
  },
  {
   "cell_type": "code",
   "execution_count": 32,
   "metadata": {
    "collapsed": true
   },
   "outputs": [],
   "source": [
    "import os.path"
   ]
  },
  {
   "cell_type": "code",
   "execution_count": 33,
   "metadata": {
    "collapsed": true
   },
   "outputs": [],
   "source": [
    "# path = r'input/three_band'"
   ]
  },
  {
   "cell_type": "code",
   "execution_count": 34,
   "metadata": {
    "collapsed": true
   },
   "outputs": [],
   "source": [
    "# num_files = len([f for f in os.listdir(path)\n",
    "#                 if os.path.isfile(os.path.join())])"
   ]
  },
  {
   "cell_type": "code",
   "execution_count": 35,
   "metadata": {},
   "outputs": [
    {
     "name": "stdout",
     "output_type": "stream",
     "text": [
      "['6120_2_4' '6120_2_3' '6120_2_1' '6180_2_4' '6180_2_1' '6180_2_0'\n",
      " '6180_2_3' '6180_2_2' '6180_0_3' '6180_0_2']\n",
      "429\n"
     ]
    }
   ],
   "source": [
    "sublist = submission.ImageId.unique()\n",
    "print(sublist[:10])\n",
    "print(len(sublist))"
   ]
  },
  {
   "cell_type": "code",
   "execution_count": 36,
   "metadata": {},
   "outputs": [
    {
     "name": "stdout",
     "output_type": "stream",
     "text": [
      "6070_2_3\n",
      "6010_1_2\n",
      "6040_4_4\n",
      "6100_2_2\n"
     ]
    }
   ],
   "source": [
    "overlap = []\n",
    "for a in imagelist:\n",
    "    if a in sublist:\n",
    "        print(a)\n",
    "        overlap.append(a)"
   ]
  },
  {
   "cell_type": "code",
   "execution_count": 37,
   "metadata": {},
   "outputs": [
    {
     "data": {
      "text/html": [
       "<div>\n",
       "<style>\n",
       "    .dataframe thead tr:only-child th {\n",
       "        text-align: right;\n",
       "    }\n",
       "\n",
       "    .dataframe thead th {\n",
       "        text-align: left;\n",
       "    }\n",
       "\n",
       "    .dataframe tbody tr th {\n",
       "        vertical-align: top;\n",
       "    }\n",
       "</style>\n",
       "<table border=\"1\" class=\"dataframe\">\n",
       "  <thead>\n",
       "    <tr style=\"text-align: right;\">\n",
       "      <th></th>\n",
       "      <th>ImageId</th>\n",
       "      <th>ClassType</th>\n",
       "      <th>MultipolygonWKT</th>\n",
       "    </tr>\n",
       "  </thead>\n",
       "  <tbody>\n",
       "    <tr>\n",
       "      <th>210</th>\n",
       "      <td>6070_2_3</td>\n",
       "      <td>1</td>\n",
       "      <td>MULTIPOLYGON (((0.0045699999999998 -0.00904499...</td>\n",
       "    </tr>\n",
       "    <tr>\n",
       "      <th>211</th>\n",
       "      <td>6070_2_3</td>\n",
       "      <td>2</td>\n",
       "      <td>MULTIPOLYGON (((0.0047860000000002 -0.00904499...</td>\n",
       "    </tr>\n",
       "    <tr>\n",
       "      <th>212</th>\n",
       "      <td>6070_2_3</td>\n",
       "      <td>3</td>\n",
       "      <td>MULTIPOLYGON (((0.0057290000000002 -0.00798699...</td>\n",
       "    </tr>\n",
       "    <tr>\n",
       "      <th>214</th>\n",
       "      <td>6070_2_3</td>\n",
       "      <td>5</td>\n",
       "      <td>MULTIPOLYGON (((0.007875999999999699 -0.009043...</td>\n",
       "    </tr>\n",
       "    <tr>\n",
       "      <th>216</th>\n",
       "      <td>6070_2_3</td>\n",
       "      <td>7</td>\n",
       "      <td>MULTIPOLYGON (((0.0090125999999999 -0.00786559...</td>\n",
       "    </tr>\n",
       "    <tr>\n",
       "      <th>217</th>\n",
       "      <td>6070_2_3</td>\n",
       "      <td>8</td>\n",
       "      <td>MULTIPOLYGON (((0.0011729999999996 -0.00854899...</td>\n",
       "    </tr>\n",
       "    <tr>\n",
       "      <th>219</th>\n",
       "      <td>6070_2_3</td>\n",
       "      <td>10</td>\n",
       "      <td>MULTIPOLYGON (((0.0075799999999997 -0.00903299...</td>\n",
       "    </tr>\n",
       "    <tr>\n",
       "      <th>221</th>\n",
       "      <td>6010_1_2</td>\n",
       "      <td>2</td>\n",
       "      <td>MULTIPOLYGON (((0.008926999999999999 -0.008574...</td>\n",
       "    </tr>\n",
       "    <tr>\n",
       "      <th>223</th>\n",
       "      <td>6010_1_2</td>\n",
       "      <td>4</td>\n",
       "      <td>MULTIPOLYGON (((0.008765 -0.007289, 0.00885 -0...</td>\n",
       "    </tr>\n",
       "    <tr>\n",
       "      <th>224</th>\n",
       "      <td>6010_1_2</td>\n",
       "      <td>5</td>\n",
       "      <td>MULTIPOLYGON (((0.007405 -0.009022000000000001...</td>\n",
       "    </tr>\n",
       "    <tr>\n",
       "      <th>233</th>\n",
       "      <td>6040_4_4</td>\n",
       "      <td>4</td>\n",
       "      <td>MULTIPOLYGON (((0.0059084373000013 -0.00884575...</td>\n",
       "    </tr>\n",
       "    <tr>\n",
       "      <th>234</th>\n",
       "      <td>6040_4_4</td>\n",
       "      <td>5</td>\n",
       "      <td>MULTIPOLYGON (((0.008953822000000699 -0.008981...</td>\n",
       "    </tr>\n",
       "    <tr>\n",
       "      <th>240</th>\n",
       "      <td>6100_2_2</td>\n",
       "      <td>1</td>\n",
       "      <td>MULTIPOLYGON (((0.007676 -0.005554, 0.007721 -...</td>\n",
       "    </tr>\n",
       "    <tr>\n",
       "      <th>241</th>\n",
       "      <td>6100_2_2</td>\n",
       "      <td>2</td>\n",
       "      <td>MULTIPOLYGON (((0.009129999999999999 -0.007036...</td>\n",
       "    </tr>\n",
       "    <tr>\n",
       "      <th>242</th>\n",
       "      <td>6100_2_2</td>\n",
       "      <td>3</td>\n",
       "      <td>MULTIPOLYGON (((0.009155999999999999 -0.001717...</td>\n",
       "    </tr>\n",
       "    <tr>\n",
       "      <th>243</th>\n",
       "      <td>6100_2_2</td>\n",
       "      <td>4</td>\n",
       "      <td>MULTIPOLYGON (((0.001933 -0.008625000000000001...</td>\n",
       "    </tr>\n",
       "    <tr>\n",
       "      <th>244</th>\n",
       "      <td>6100_2_2</td>\n",
       "      <td>5</td>\n",
       "      <td>MULTIPOLYGON (((0.000247 -0.008847000000000001...</td>\n",
       "    </tr>\n",
       "    <tr>\n",
       "      <th>245</th>\n",
       "      <td>6100_2_2</td>\n",
       "      <td>6</td>\n",
       "      <td>MULTIPOLYGON (((0.006102 -0.009042, 0.00642 -0...</td>\n",
       "    </tr>\n",
       "    <tr>\n",
       "      <th>246</th>\n",
       "      <td>6100_2_2</td>\n",
       "      <td>7</td>\n",
       "      <td>MULTIPOLYGON (((0.007887999999999999 -0.009042...</td>\n",
       "    </tr>\n",
       "    <tr>\n",
       "      <th>247</th>\n",
       "      <td>6100_2_2</td>\n",
       "      <td>8</td>\n",
       "      <td>MULTIPOLYGON (((0.002119 -0.001417, 0.002132 -...</td>\n",
       "    </tr>\n",
       "    <tr>\n",
       "      <th>248</th>\n",
       "      <td>6100_2_2</td>\n",
       "      <td>9</td>\n",
       "      <td>MULTIPOLYGON (((0.008021 -0.003252, 0.00803399...</td>\n",
       "    </tr>\n",
       "    <tr>\n",
       "      <th>249</th>\n",
       "      <td>6100_2_2</td>\n",
       "      <td>10</td>\n",
       "      <td>MULTIPOLYGON (((0.003194 -0.0089, 0.003201 -0....</td>\n",
       "    </tr>\n",
       "  </tbody>\n",
       "</table>\n",
       "</div>"
      ],
      "text/plain": [
       "      ImageId  ClassType                                    MultipolygonWKT\n",
       "210  6070_2_3          1  MULTIPOLYGON (((0.0045699999999998 -0.00904499...\n",
       "211  6070_2_3          2  MULTIPOLYGON (((0.0047860000000002 -0.00904499...\n",
       "212  6070_2_3          3  MULTIPOLYGON (((0.0057290000000002 -0.00798699...\n",
       "214  6070_2_3          5  MULTIPOLYGON (((0.007875999999999699 -0.009043...\n",
       "216  6070_2_3          7  MULTIPOLYGON (((0.0090125999999999 -0.00786559...\n",
       "217  6070_2_3          8  MULTIPOLYGON (((0.0011729999999996 -0.00854899...\n",
       "219  6070_2_3         10  MULTIPOLYGON (((0.0075799999999997 -0.00903299...\n",
       "221  6010_1_2          2  MULTIPOLYGON (((0.008926999999999999 -0.008574...\n",
       "223  6010_1_2          4  MULTIPOLYGON (((0.008765 -0.007289, 0.00885 -0...\n",
       "224  6010_1_2          5  MULTIPOLYGON (((0.007405 -0.009022000000000001...\n",
       "233  6040_4_4          4  MULTIPOLYGON (((0.0059084373000013 -0.00884575...\n",
       "234  6040_4_4          5  MULTIPOLYGON (((0.008953822000000699 -0.008981...\n",
       "240  6100_2_2          1  MULTIPOLYGON (((0.007676 -0.005554, 0.007721 -...\n",
       "241  6100_2_2          2  MULTIPOLYGON (((0.009129999999999999 -0.007036...\n",
       "242  6100_2_2          3  MULTIPOLYGON (((0.009155999999999999 -0.001717...\n",
       "243  6100_2_2          4  MULTIPOLYGON (((0.001933 -0.008625000000000001...\n",
       "244  6100_2_2          5  MULTIPOLYGON (((0.000247 -0.008847000000000001...\n",
       "245  6100_2_2          6  MULTIPOLYGON (((0.006102 -0.009042, 0.00642 -0...\n",
       "246  6100_2_2          7  MULTIPOLYGON (((0.007887999999999999 -0.009042...\n",
       "247  6100_2_2          8  MULTIPOLYGON (((0.002119 -0.001417, 0.002132 -...\n",
       "248  6100_2_2          9  MULTIPOLYGON (((0.008021 -0.003252, 0.00803399...\n",
       "249  6100_2_2         10  MULTIPOLYGON (((0.003194 -0.0089, 0.003201 -0...."
      ]
     },
     "execution_count": 37,
     "metadata": {},
     "output_type": "execute_result"
    }
   ],
   "source": [
    "overlap_data = train_reduced[train_reduced.ImageId.isin(overlap)]\n",
    "overlap_data"
   ]
  },
  {
   "cell_type": "code",
   "execution_count": 38,
   "metadata": {},
   "outputs": [
    {
     "data": {
      "text/plain": [
       "ImageId            22\n",
       "ClassType          22\n",
       "MultipolygonWKT    22\n",
       "dtype: int64"
      ]
     },
     "execution_count": 38,
     "metadata": {},
     "output_type": "execute_result"
    }
   ],
   "source": [
    "overlap_data.count()"
   ]
  },
  {
   "cell_type": "markdown",
   "metadata": {},
   "source": [
    "# Evaluation"
   ]
  },
  {
   "cell_type": "code",
   "execution_count": 41,
   "metadata": {},
   "outputs": [],
   "source": [
    "from osgeo import ogr\n",
    "\n",
    "wkt1 = overlap_data.MultipolygonWKT.iloc[0]\n",
    "wkt2 = overlap_data.MultipolygonWKT.iloc[2]\n",
    "\n",
    "poly1 = ogr.CreateGeometryFromWkt(wkt1);\n",
    "poly2 = ogr.CreateGeometryFromWkt(wkt2);\n",
    "\n",
    "union = poly1.Union(poly2);\n",
    "\n",
    "# print(poly1);\n",
    "# print (poly2);\n",
    "# print (union.ExportToWkt());"
   ]
  },
  {
   "cell_type": "code",
   "execution_count": 42,
   "metadata": {
    "collapsed": true
   },
   "outputs": [],
   "source": [
    "intersection = poly1.Intersection(poly2)"
   ]
  },
  {
   "cell_type": "code",
   "execution_count": 43,
   "metadata": {},
   "outputs": [
    {
     "name": "stdout",
     "output_type": "stream",
     "text": [
      "3.2544385161318955e-10\n"
     ]
    }
   ],
   "source": [
    "print(intersection.Area())"
   ]
  },
  {
   "cell_type": "code",
   "execution_count": 44,
   "metadata": {},
   "outputs": [
    {
     "name": "stdout",
     "output_type": "stream",
     "text": [
      "1.929477520633384e-06\n"
     ]
    }
   ],
   "source": [
    "print(union.Area())"
   ]
  },
  {
   "cell_type": "code",
   "execution_count": 45,
   "metadata": {},
   "outputs": [
    {
     "name": "stdout",
     "output_type": "stream",
     "text": [
      "0.00016866941860320668\n"
     ]
    }
   ],
   "source": [
    "# Jaccard index\n",
    "print(intersection.Area()/union.Area())"
   ]
  },
  {
   "cell_type": "code",
   "execution_count": 48,
   "metadata": {
    "collapsed": true
   },
   "outputs": [],
   "source": [
    "img_train = '../classtype/6040_2_2.tif'"
   ]
  },
  {
   "cell_type": "code",
   "execution_count": 49,
   "metadata": {},
   "outputs": [],
   "source": [
    "dataset_train = gdal.Open(img_train, GA_ReadOnly)\n",
    "band = dataset_train.GetRasterBand(1)"
   ]
  },
  {
   "cell_type": "code",
   "execution_count": 50,
   "metadata": {},
   "outputs": [
    {
     "data": {
      "image/png": "[encoded data removed]",
      "text/plain": [
       "<matplotlib.figure.Figure at 0x123f28e48>"
      ]
     },
     "metadata": {},
     "output_type": "display_data"
    }
   ],
   "source": [
    "train_Array = band.ReadAsArray()\n",
    "implot = plt.imshow(train_Array)\n",
    "plt.show()"
   ]
  },
  {
   "cell_type": "code",
   "execution_count": 51,
   "metadata": {},
   "outputs": [
    {
     "data": {
      "text/plain": [
       "array([255, 255, 255, 255, 255, 255, 255, 255, 255, 255, 255, 255, 255,\n",
       "       255, 255, 255, 255, 255, 255, 255, 255, 255, 255, 255, 255, 255,\n",
       "       255, 255, 255, 255, 255, 255, 255, 255, 255, 255, 255, 255, 255,\n",
       "       255, 255, 255, 255, 255, 255, 255, 255, 255, 255, 255, 255, 255,\n",
       "       255, 255, 255, 255, 255, 255, 255, 255, 255, 255, 255, 255, 255,\n",
       "       255, 255, 255, 255, 255, 255, 255, 255, 255, 255, 255, 255, 255,\n",
       "       255, 255, 255, 255, 255, 255, 255, 255, 255, 255, 255, 255, 255,\n",
       "       255, 255, 255, 255,   5], dtype=uint8)"
      ]
     },
     "execution_count": 51,
     "metadata": {},
     "output_type": "execute_result"
    }
   ],
   "source": [
    "train_Array[0][4:100]"
   ]
  },
  {
   "cell_type": "markdown",
   "metadata": {
    "collapsed": true
   },
   "source": [
    "# Vectorize Results"
   ]
  },
  {
   "cell_type": "code",
   "execution_count": 52,
   "metadata": {
    "collapsed": true
   },
   "outputs": [],
   "source": [
    "import numpy as np\n",
    "import rasterio.features\n",
    "from affine import Affine\n",
    "from shapely.geometry import shape"
   ]
  },
  {
   "cell_type": "code",
   "execution_count": 53,
   "metadata": {},
   "outputs": [
    {
     "name": "stdout",
     "output_type": "stream",
     "text": [
      "[[ 1.  0.  0.  0.  0.]\n",
      " [ 1.  1.  0.  0.  0.]\n",
      " [ 1.  1.  1.  0.  0.]\n",
      " [ 1.  1.  1.  1.  0.]\n",
      " [ 1.  1.  1.  1.  1.]]\n"
     ]
    }
   ],
   "source": [
    "ar = np.tri(5,dtype='f')\n",
    "print(ar)"
   ]
  },
  {
   "cell_type": "code",
   "execution_count": 54,
   "metadata": {},
   "outputs": [
    {
     "name": "stdout",
     "output_type": "stream",
     "text": [
      "1.0: POLYGON ((0 5, 0 0, 5 0, 5 1, 4 1, 4 2, 3 2, 3 3, 2 3, 2 4, 1 4, 1 5, 0 5))\n",
      "0.0: POLYGON ((1 5, 1 4, 2 4, 2 3, 3 3, 3 2, 4 2, 4 1, 5 1, 5 5, 1 5))\n"
     ]
    }
   ],
   "source": [
    "for shp, val in rasterio.features.shapes(ar, transform=Affine(1,0,0,0,-1,5)):\n",
    "    print ('%s: %s' %(val, shape(shp)))"
   ]
  },
  {
   "cell_type": "code",
   "execution_count": null,
   "metadata": {
    "collapsed": true
   },
   "outputs": [],
   "source": []
  }
 ],
 "metadata": {
  "anaconda-cloud": {},
  "kernelspec": {
   "display_name": "Python 3",
   "language": "python",
   "name": "python3"
  },
  "language_info": {
   "codemirror_mode": {
    "name": "ipython",
    "version": 3
   },
   "file_extension": ".py",
   "mimetype": "text/x-python",
   "name": "python",
   "nbconvert_exporter": "python",
   "pygments_lexer": "ipython3",
   "version": "3.6.2"
  }
 },
 "nbformat": 4,
 "nbformat_minor": 1
}
